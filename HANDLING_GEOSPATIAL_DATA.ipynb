{
 "cells": [
  {
   "cell_type": "markdown",
   "metadata": {},
   "source": [
    "# IMPORTING GOOGLE EARTH (KML/KMZ FILES) - EARTHQUAKE DATASET"
   ]
  },
  {
   "cell_type": "markdown",
   "metadata": {},
   "source": [
    "<img src=\"xs.png\" alt=\"Image Alt Text\">"
   ]
  },
  {
   "cell_type": "markdown",
   "metadata": {},
   "source": [
    "First, let's install geopandas, a Python library for geospatial data manipulation."
   ]
  },
  {
   "cell_type": "code",
   "execution_count": 1,
   "metadata": {},
   "outputs": [
    {
     "name": "stdout",
     "output_type": "stream",
     "text": [
      "Requirement already satisfied: geopandas in c:\\users\\hp\\anaconda3\\envs\\mds\\lib\\site-packages (0.13.2)\n",
      "Requirement already satisfied: packaging in c:\\users\\hp\\anaconda3\\envs\\mds\\lib\\site-packages (from geopandas) (21.3)\n",
      "Requirement already satisfied: shapely>=1.7.1 in c:\\users\\hp\\anaconda3\\envs\\mds\\lib\\site-packages (from geopandas) (2.0.1)\n",
      "Requirement already satisfied: pandas>=1.1.0 in c:\\users\\hp\\anaconda3\\envs\\mds\\lib\\site-packages (from geopandas) (1.4.4)\n",
      "Requirement already satisfied: fiona>=1.8.19 in c:\\users\\hp\\anaconda3\\envs\\mds\\lib\\site-packages (from geopandas) (1.9.4.post1)\n",
      "Requirement already satisfied: pyproj>=3.0.1 in c:\\users\\hp\\anaconda3\\envs\\mds\\lib\\site-packages (from geopandas) (3.6.0)\n",
      "Requirement already satisfied: certifi in c:\\users\\hp\\anaconda3\\envs\\mds\\lib\\site-packages (from fiona>=1.8.19->geopandas) (2023.7.22)\n",
      "Requirement already satisfied: six in c:\\users\\hp\\anaconda3\\envs\\mds\\lib\\site-packages (from fiona>=1.8.19->geopandas) (1.16.0)\n",
      "Requirement already satisfied: importlib-metadata in c:\\users\\hp\\anaconda3\\envs\\mds\\lib\\site-packages (from fiona>=1.8.19->geopandas) (4.11.3)\n",
      "Requirement already satisfied: cligj>=0.5 in c:\\users\\hp\\anaconda3\\envs\\mds\\lib\\site-packages (from fiona>=1.8.19->geopandas) (0.7.2)\n",
      "Requirement already satisfied: attrs>=19.2.0 in c:\\users\\hp\\anaconda3\\envs\\mds\\lib\\site-packages (from fiona>=1.8.19->geopandas) (21.4.0)\n",
      "Requirement already satisfied: click-plugins>=1.0 in c:\\users\\hp\\anaconda3\\envs\\mds\\lib\\site-packages (from fiona>=1.8.19->geopandas) (1.1.1)\n",
      "Requirement already satisfied: click~=8.0 in c:\\users\\hp\\anaconda3\\envs\\mds\\lib\\site-packages (from fiona>=1.8.19->geopandas) (8.0.4)\n",
      "Requirement already satisfied: python-dateutil>=2.8.1 in c:\\users\\hp\\anaconda3\\envs\\mds\\lib\\site-packages (from pandas>=1.1.0->geopandas) (2.8.2)\n",
      "Requirement already satisfied: pytz>=2020.1 in c:\\users\\hp\\anaconda3\\envs\\mds\\lib\\site-packages (from pandas>=1.1.0->geopandas) (2022.1)\n",
      "Requirement already satisfied: numpy>=1.18.5 in c:\\users\\hp\\anaconda3\\envs\\mds\\lib\\site-packages (from pandas>=1.1.0->geopandas) (1.23.1)\n",
      "Requirement already satisfied: pyparsing!=3.0.5,>=2.0.2 in c:\\users\\hp\\anaconda3\\envs\\mds\\lib\\site-packages (from packaging->geopandas) (3.0.9)\n",
      "Requirement already satisfied: colorama in c:\\users\\hp\\anaconda3\\envs\\mds\\lib\\site-packages (from click~=8.0->fiona>=1.8.19->geopandas) (0.4.5)\n",
      "Requirement already satisfied: zipp>=0.5 in c:\\users\\hp\\anaconda3\\envs\\mds\\lib\\site-packages (from importlib-metadata->fiona>=1.8.19->geopandas) (3.8.0)\n",
      "Note: you may need to restart the kernel to use updated packages.\n"
     ]
    }
   ],
   "source": [
    "%pip install geopandas"
   ]
  },
  {
   "cell_type": "markdown",
   "metadata": {},
   "source": [
    "Let's import the required dependencies."
   ]
  },
  {
   "cell_type": "code",
   "execution_count": 11,
   "metadata": {},
   "outputs": [],
   "source": [
    "import zipfile #We will use this library to extract data from KMZ file into KML one.\n",
    "import os #We will use it to manage file paths and check if files exist.\n",
    "import fiona #We will use it to parse and read the file in the KML format\n",
    "import pandas as pd \n",
    "import geopandas as gpd #We'll use it to read, process, and manipulate the KML file.\n",
    "from bs4 import BeautifulSoup #We will use it to parse HTML content embedded within one column of the KML file"
   ]
  },
  {
   "cell_type": "markdown",
   "metadata": {},
   "source": [
    "# Importing Google Earth Files"
   ]
  },
  {
   "cell_type": "markdown",
   "metadata": {},
   "source": [
    "First of all, we need to 'unzip' the KMZ file."
   ]
  },
  {
   "cell_type": "code",
   "execution_count": 83,
   "metadata": {},
   "outputs": [],
   "source": [
    "# Specify the path to our KMZ file\n",
    "kmz_file_path = \"C:/Users/HP/OneDrive/Documents/PROJECTS/Earthquake/hazards.kmz\"  \n",
    "\n",
    "# Specify the directory where we want to extract the KML file (same directory as the KMZ file)\n",
    "extraction_dir = os.path.dirname(\"C:/Users/HP/OneDrive/Documents/PROJECTS/Earthquake/hazards.kmz\"  )\n",
    "\n",
    "# Open the KMZ file and extract its contents\n",
    "with zipfile.ZipFile(kmz_file_path, \"r\") as kmz:\n",
    "    kmz.extractall(extraction_dir)"
   ]
  },
  {
   "cell_type": "markdown",
   "metadata": {},
   "source": [
    "We should want to enable KML support which is disabled by default, or else, we will face the unsupported Driver Error."
   ]
  },
  {
   "cell_type": "code",
   "execution_count": 84,
   "metadata": {},
   "outputs": [],
   "source": [
    "fiona.drvsupport.supported_drivers['libkml'] = 'rw' # enable KML support which is disabled by default\n",
    "fiona.drvsupport.supported_drivers['LIBKML'] = 'rw'"
   ]
  },
  {
   "cell_type": "code",
   "execution_count": 85,
   "metadata": {},
   "outputs": [],
   "source": [
    "#gdf = gpd.read_file(\"C:/Users/Earthquake/hazards/files/significantEarthquakes.kml\", driver='libkml')\n",
    "#gdf.head()"
   ]
  },
  {
   "cell_type": "markdown",
   "metadata": {},
   "source": [
    "Oups, the output is not right, only the names of the columns are displayed, no data in sight, maybe there is a problem with loading the whole dataset? let's try another way."
   ]
  },
  {
   "cell_type": "code",
   "execution_count": 86,
   "metadata": {},
   "outputs": [],
   "source": [
    "# Specify the path to the extracted KML file\n",
    "kml_file_path = \"C:/Users/HP/OneDrive/Documents/PROJECTS/Earthquake/hazards/files/\"  \n",
    "fp_eq=kml_file_path+\"significantEarthquakes\"+'.kml'"
   ]
  },
  {
   "cell_type": "markdown",
   "metadata": {},
   "source": [
    "Next, we will use the fiona library to list all the layers within a KML file. Then, for each layer, we use geopandas to read and load the data from that specific layer within the KML file. Finally, we concatenate all these individual GeoDataFrames into a single GeoDataFrame called gdf, effectively merging the data from all KML layers into one consolidated dataset, sort of like collecting all the pieces of a puzzle into a single picture."
   ]
  },
  {
   "cell_type": "code",
   "execution_count": 87,
   "metadata": {},
   "outputs": [],
   "source": [
    "gdf_list = []\n",
    "for layer in fiona.listlayers(fp_eq):    \n",
    "    gdf = gpd.read_file(fp_eq, driver='LIBKML', layer=layer)\n",
    "    gdf_list.append(gdf)\n",
    "\n",
    "gdf = gpd.GeoDataFrame(pd.concat(gdf_list, ignore_index=True))"
   ]
  },
  {
   "cell_type": "code",
   "execution_count": 88,
   "metadata": {},
   "outputs": [
    {
     "data": {
      "text/html": [
       "<div>\n",
       "<style scoped>\n",
       "    .dataframe tbody tr th:only-of-type {\n",
       "        vertical-align: middle;\n",
       "    }\n",
       "\n",
       "    .dataframe tbody tr th {\n",
       "        vertical-align: top;\n",
       "    }\n",
       "\n",
       "    .dataframe thead th {\n",
       "        text-align: right;\n",
       "    }\n",
       "</style>\n",
       "<table border=\"1\" class=\"dataframe\">\n",
       "  <thead>\n",
       "    <tr style=\"text-align: right;\">\n",
       "      <th></th>\n",
       "      <th>Name</th>\n",
       "      <th>description</th>\n",
       "      <th>timestamp</th>\n",
       "      <th>begin</th>\n",
       "      <th>end</th>\n",
       "      <th>altitudeMode</th>\n",
       "      <th>tessellate</th>\n",
       "      <th>extrude</th>\n",
       "      <th>visibility</th>\n",
       "      <th>drawOrder</th>\n",
       "      <th>icon</th>\n",
       "      <th>geometry</th>\n",
       "      <th>snippet</th>\n",
       "    </tr>\n",
       "  </thead>\n",
       "  <tbody>\n",
       "    <tr>\n",
       "      <th>0</th>\n",
       "      <td>-2150/??/??</td>\n",
       "      <td>\\n        &lt;table width='300'&gt;\\n        &lt;tr&gt;\\n ...</td>\n",
       "      <td>NaT</td>\n",
       "      <td>NaT</td>\n",
       "      <td>NaT</td>\n",
       "      <td>NaN</td>\n",
       "      <td>-1</td>\n",
       "      <td>0</td>\n",
       "      <td>1</td>\n",
       "      <td>NaN</td>\n",
       "      <td>NaN</td>\n",
       "      <td>POINT Z (35.50000 31.10000 0.00000)</td>\n",
       "      <td>JORDAN:  BAB-A-DARAA,AL-KARAK</td>\n",
       "    </tr>\n",
       "  </tbody>\n",
       "</table>\n",
       "</div>"
      ],
      "text/plain": [
       "          Name                                        description timestamp  \\\n",
       "0  -2150/??/??  \\n        <table width='300'>\\n        <tr>\\n ...       NaT   \n",
       "\n",
       "  begin end altitudeMode tessellate extrude visibility drawOrder icon  \\\n",
       "0   NaT NaT          NaN         -1       0          1       NaN  NaN   \n",
       "\n",
       "                              geometry                        snippet  \n",
       "0  POINT Z (35.50000 31.10000 0.00000)  JORDAN:  BAB-A-DARAA,AL-KARAK  "
      ]
     },
     "execution_count": 88,
     "metadata": {},
     "output_type": "execute_result"
    }
   ],
   "source": [
    "gdf.head(1)"
   ]
  },
  {
   "cell_type": "markdown",
   "metadata": {},
   "source": [
    "Voila! \n",
    "What a satisfying moment (Yes because I don't know about you data scientists, but it was my first time working on this type of files, and it definitely took me some time to understand how it works)"
   ]
  },
  {
   "cell_type": "markdown",
   "metadata": {},
   "source": [
    "# Data Processing: Few examples"
   ]
  },
  {
   "cell_type": "markdown",
   "metadata": {},
   "source": [
    "First let's explore the data"
   ]
  },
  {
   "cell_type": "code",
   "execution_count": 89,
   "metadata": {},
   "outputs": [
    {
     "name": "stdout",
     "output_type": "stream",
     "text": [
      "Number of rows & columns in GeoDataFrame: (5884, 13)\n"
     ]
    }
   ],
   "source": [
    "print(\"Number of rows & columns in GeoDataFrame:\", gdf.shape)"
   ]
  },
  {
   "cell_type": "code",
   "execution_count": 90,
   "metadata": {},
   "outputs": [
    {
     "name": "stdout",
     "output_type": "stream",
     "text": [
      "<class 'geopandas.geodataframe.GeoDataFrame'>\n",
      "RangeIndex: 5884 entries, 0 to 5883\n",
      "Data columns (total 13 columns):\n",
      " #   Column        Non-Null Count  Dtype         \n",
      "---  ------        --------------  -----         \n",
      " 0   Name          5884 non-null   object        \n",
      " 1   description   5884 non-null   object        \n",
      " 2   timestamp     0 non-null      datetime64[ns]\n",
      " 3   begin         0 non-null      datetime64[ns]\n",
      " 4   end           0 non-null      datetime64[ns]\n",
      " 5   altitudeMode  0 non-null      object        \n",
      " 6   tessellate    5884 non-null   object        \n",
      " 7   extrude       5884 non-null   object        \n",
      " 8   visibility    5884 non-null   object        \n",
      " 9   drawOrder     0 non-null      object        \n",
      " 10  icon          0 non-null      object        \n",
      " 11  geometry      5884 non-null   geometry      \n",
      " 12  snippet       5884 non-null   object        \n",
      "dtypes: datetime64[ns](3), geometry(1), object(9)\n",
      "memory usage: 597.7+ KB\n",
      "None\n"
     ]
    }
   ],
   "source": [
    "print(gdf.info())"
   ]
  },
  {
   "cell_type": "code",
   "execution_count": 91,
   "metadata": {},
   "outputs": [
    {
     "name": "stdout",
     "output_type": "stream",
     "text": [
      "Name               0\n",
      "description        0\n",
      "timestamp       5884\n",
      "begin           5884\n",
      "end             5884\n",
      "altitudeMode    5884\n",
      "tessellate         0\n",
      "extrude            0\n",
      "visibility         0\n",
      "drawOrder       5884\n",
      "icon            5884\n",
      "geometry           0\n",
      "snippet            0\n",
      "dtype: int64\n"
     ]
    }
   ],
   "source": [
    "print(gdf.isnull().sum())"
   ]
  },
  {
   "cell_type": "code",
   "execution_count": 92,
   "metadata": {},
   "outputs": [
    {
     "data": {
      "text/plain": [
       "CHINA:  YUNNAN PROVINCE     68\n",
       "TURKEY                      49\n",
       "CHINA:  SICHUAN PROVINCE    44\n",
       "RUSSIA:  KURIL ISLANDS      39\n",
       "VANUATU ISLANDS             33\n",
       "Name: snippet, dtype: int64"
      ]
     },
     "execution_count": 92,
     "metadata": {},
     "output_type": "execute_result"
    }
   ],
   "source": [
    "gdf['snippet'].value_counts().head()"
   ]
  },
  {
   "cell_type": "code",
   "execution_count": 93,
   "metadata": {},
   "outputs": [
    {
     "data": {
      "text/plain": [
       "1954/09/09    4\n",
       "1901/08/09    4\n",
       "2006/06/03    3\n",
       "1989/03/10    3\n",
       "1750/??/??    3\n",
       "Name: EQ_Date, dtype: int64"
      ]
     },
     "execution_count": 93,
     "metadata": {},
     "output_type": "execute_result"
    }
   ],
   "source": [
    "gdf = gdf.rename(columns={'Name': 'EQ_Date'})\n",
    "gdf['EQ_Date'].value_counts().head()"
   ]
  },
  {
   "cell_type": "code",
   "execution_count": 94,
   "metadata": {},
   "outputs": [
    {
     "data": {
      "text/plain": [
       "\\n        <table width='300'>\\n        <tr>\\n        <th>Location of Earthquake Effects:</th><td><nobr>JORDAN:  BAB-A-DARAA,AL-KARAK</nobr></td></tr>\\n        <tr><th>Earthquake Magnitude:</th><td>7.3</td></tr>\\n        <tr><th>Number of Deaths:</th><td>null</td></tr>\\n        <tr><th>Triggered a Tsunami?</th><td>No</td></tr>\\n        </table>\\n        <hr>\\n        <br><a href=\"https://www.ngdc.noaa.gov/nndc/struts/results?t=101650&s=13&d=229,26,13,12&nd=display&eq_0=1\">Get more details from NGDC Natural Hazards Website</a>\\n        <br>    1\n",
       "Name: description, dtype: int64"
      ]
     },
     "execution_count": 94,
     "metadata": {},
     "output_type": "execute_result"
    }
   ],
   "source": [
    "gdf['description'].value_counts().head(1)"
   ]
  },
  {
   "cell_type": "code",
   "execution_count": 95,
   "metadata": {},
   "outputs": [],
   "source": [
    "html_column = gdf['description']\n",
    "\n",
    "# Initialize empty lists to store extracted data\n",
    "EQ_location = []\n",
    "EQ_magnitude = []\n",
    "nb_deaths = []\n",
    "tsunami = []\n",
    "\n",
    "# Loop through the HTML strings in the column\n",
    "for html_string in html_column:\n",
    "    # Use BeautifulSoup to parse the HTML\n",
    "    soup = BeautifulSoup(html_string, 'html.parser')\n",
    "    \n",
    "    # Extract data based on HTML structure and tags\n",
    "    # Example: Extracting location, magnitude, deaths, and tsunami information\n",
    "    table = soup.find('table')\n",
    "    rows = table.find_all('tr')\n",
    "    \n",
    "    location = None\n",
    "    magnitude = None\n",
    "    deaths = None\n",
    "    tsunami_info = None\n",
    "    \n",
    "    for row in rows:\n",
    "        header = row.find('th').text.strip()\n",
    "        data = row.find('td').text.strip()\n",
    "        \n",
    "        if header == \"Location of Earthquake Effects:\":\n",
    "            location = data\n",
    "        elif header == \"Earthquake Magnitude:\":\n",
    "            magnitude = data\n",
    "        elif header == \"Number of Deaths:\":\n",
    "            deaths = data\n",
    "        elif header == \"Triggered a Tsunami?\":\n",
    "            tsunami_info = data\n",
    "    \n",
    "    # Append the extracted data to the corresponding lists\n",
    "    EQ_location.append(location)\n",
    "    EQ_magnitude.append(magnitude)\n",
    "    nb_deaths.append(deaths)\n",
    "    tsunami.append(tsunami_info)\n",
    "\n",
    "# Create new columns in the GeoDataFrame\n",
    "gdf['EQ_location'] = EQ_location\n",
    "gdf['EQ_magnitude'] = EQ_magnitude\n",
    "gdf['Nb_deaths'] = nb_deaths\n",
    "gdf['Tsunami'] = tsunami"
   ]
  },
  {
   "cell_type": "code",
   "execution_count": 96,
   "metadata": {},
   "outputs": [
    {
     "data": {
      "text/plain": [
       "0           JORDAN:  BAB-A-DARAA,AL-KARAK\n",
       "1                        TURKMENISTAN:  W\n",
       "2                          SYRIA:  UGARIT\n",
       "3       GREECE:  THERA ISLAND (SANTORINI)\n",
       "4                ISRAEL:  ARIHA (JERICHO)\n",
       "                      ...                \n",
       "5879                                CHILE\n",
       "5880                         FIJI ISLANDS\n",
       "5881                       INDIA:  AMBASA\n",
       "5882                         IRAN:  KHONJ\n",
       "5883                    ITALY:  FARINDOLA\n",
       "Name: EQ_location, Length: 5884, dtype: object"
      ]
     },
     "execution_count": 96,
     "metadata": {},
     "output_type": "execute_result"
    }
   ],
   "source": [
    "gdf['EQ_location']"
   ]
  },
  {
   "cell_type": "code",
   "execution_count": 97,
   "metadata": {
    "scrolled": true
   },
   "outputs": [],
   "source": [
    "cols_to_drop = ['description','snippet','visibility','tessellate','extrude','timestamp', 'begin', 'end','altitudeMode','drawOrder', 'icon']\n",
    "gdf.drop(columns=cols_to_drop, inplace=True)"
   ]
  },
  {
   "cell_type": "code",
   "execution_count": 98,
   "metadata": {},
   "outputs": [
    {
     "data": {
      "text/plain": [
       "null                                4031\n",
       "Few (~1 to 50 people)                955\n",
       "Many (~101 to 1000 people)           412\n",
       "Very Many (~1001 or more people)     311\n",
       "Some (~51 to 100 people)             175\n",
       "Name: Nb_deaths, dtype: int64"
      ]
     },
     "execution_count": 98,
     "metadata": {},
     "output_type": "execute_result"
    }
   ],
   "source": [
    "gdf['Nb_deaths'].value_counts()"
   ]
  },
  {
   "cell_type": "code",
   "execution_count": 99,
   "metadata": {},
   "outputs": [
    {
     "data": {
      "text/plain": [
       "unknown/None                        4031\n",
       "Few (~1 to 50 people)                955\n",
       "Many (~101 to 1000 people)           412\n",
       "Very Many (~1001 or more people)     311\n",
       "Some (~51 to 100 people)             175\n",
       "Name: Nb_deaths, dtype: int64"
      ]
     },
     "execution_count": 99,
     "metadata": {},
     "output_type": "execute_result"
    }
   ],
   "source": [
    "gdf['Nb_deaths']=gdf['Nb_deaths'].replace('null', 'unknown/None')\n",
    "gdf['Nb_deaths'].value_counts()"
   ]
  },
  {
   "cell_type": "code",
   "execution_count": 100,
   "metadata": {
    "scrolled": true
   },
   "outputs": [
    {
     "data": {
      "text/html": [
       "<div>\n",
       "<style scoped>\n",
       "    .dataframe tbody tr th:only-of-type {\n",
       "        vertical-align: middle;\n",
       "    }\n",
       "\n",
       "    .dataframe tbody tr th {\n",
       "        vertical-align: top;\n",
       "    }\n",
       "\n",
       "    .dataframe thead th {\n",
       "        text-align: right;\n",
       "    }\n",
       "</style>\n",
       "<table border=\"1\" class=\"dataframe\">\n",
       "  <thead>\n",
       "    <tr style=\"text-align: right;\">\n",
       "      <th></th>\n",
       "      <th>EQ_Date</th>\n",
       "      <th>geometry</th>\n",
       "      <th>EQ_location</th>\n",
       "      <th>EQ_magnitude</th>\n",
       "      <th>Nb_deaths</th>\n",
       "      <th>Tsunami</th>\n",
       "    </tr>\n",
       "  </thead>\n",
       "  <tbody>\n",
       "    <tr>\n",
       "      <th>0</th>\n",
       "      <td>-2150/??/??</td>\n",
       "      <td>POINT Z (35.50000 31.10000 0.00000)</td>\n",
       "      <td>JORDAN:  BAB-A-DARAA,AL-KARAK</td>\n",
       "      <td>7.3</td>\n",
       "      <td>unknown/None</td>\n",
       "      <td>No</td>\n",
       "    </tr>\n",
       "  </tbody>\n",
       "</table>\n",
       "</div>"
      ],
      "text/plain": [
       "       EQ_Date                             geometry  \\\n",
       "0  -2150/??/??  POINT Z (35.50000 31.10000 0.00000)   \n",
       "\n",
       "                     EQ_location EQ_magnitude     Nb_deaths Tsunami  \n",
       "0  JORDAN:  BAB-A-DARAA,AL-KARAK          7.3  unknown/None      No  "
      ]
     },
     "execution_count": 100,
     "metadata": {},
     "output_type": "execute_result"
    }
   ],
   "source": [
    "gdf.head(1)"
   ]
  },
  {
   "cell_type": "markdown",
   "metadata": {},
   "source": [
    "What a clean one! AHH satisfying, let's plot the earthquakes locations now"
   ]
  },
  {
   "cell_type": "code",
   "execution_count": 101,
   "metadata": {},
   "outputs": [],
   "source": [
    "gdf['Country'] = gdf['EQ_location'].str.split(':').str[0]\n",
    "gdf['Country'] = gdf['Country'].str.strip()"
   ]
  },
  {
   "cell_type": "code",
   "execution_count": 102,
   "metadata": {},
   "outputs": [],
   "source": [
    "gdf['Region'] = gdf['EQ_location'].str.split(':').str[1]\n",
    "gdf['Region'] = gdf['Region'].str.strip()"
   ]
  },
  {
   "cell_type": "code",
   "execution_count": 103,
   "metadata": {},
   "outputs": [],
   "source": [
    "gdf[['Year', 'Month', 'Day']] = gdf['EQ_Date'].str.split('/', expand=True).astype(str)\n",
    "\n",
    "gdf.drop(columns=['Day'], inplace=True)"
   ]
  },
  {
   "cell_type": "code",
   "execution_count": 104,
   "metadata": {},
   "outputs": [],
   "source": [
    "gdf['Month']=gdf['Month'].replace('??', 0)"
   ]
  },
  {
   "cell_type": "code",
   "execution_count": 106,
   "metadata": {},
   "outputs": [
    {
     "data": {
      "text/html": [
       "<div>\n",
       "<style scoped>\n",
       "    .dataframe tbody tr th:only-of-type {\n",
       "        vertical-align: middle;\n",
       "    }\n",
       "\n",
       "    .dataframe tbody tr th {\n",
       "        vertical-align: top;\n",
       "    }\n",
       "\n",
       "    .dataframe thead th {\n",
       "        text-align: right;\n",
       "    }\n",
       "</style>\n",
       "<table border=\"1\" class=\"dataframe\">\n",
       "  <thead>\n",
       "    <tr style=\"text-align: right;\">\n",
       "      <th></th>\n",
       "      <th>EQ_Date</th>\n",
       "      <th>geometry</th>\n",
       "      <th>EQ_location</th>\n",
       "      <th>EQ_magnitude</th>\n",
       "      <th>Nb_deaths</th>\n",
       "      <th>Tsunami</th>\n",
       "      <th>Country</th>\n",
       "      <th>Region</th>\n",
       "      <th>Year</th>\n",
       "      <th>Month</th>\n",
       "    </tr>\n",
       "  </thead>\n",
       "  <tbody>\n",
       "    <tr>\n",
       "      <th>5883</th>\n",
       "      <td>2017/01/18</td>\n",
       "      <td>POINT Z (13.24100 42.60100 0.00000)</td>\n",
       "      <td>ITALY:  FARINDOLA</td>\n",
       "      <td>5.7</td>\n",
       "      <td>Few (~1 to 50 people)</td>\n",
       "      <td>No</td>\n",
       "      <td>ITALY</td>\n",
       "      <td>FARINDOLA</td>\n",
       "      <td>2017</td>\n",
       "      <td>01</td>\n",
       "    </tr>\n",
       "  </tbody>\n",
       "</table>\n",
       "</div>"
      ],
      "text/plain": [
       "         EQ_Date                             geometry        EQ_location  \\\n",
       "5883  2017/01/18  POINT Z (13.24100 42.60100 0.00000)  ITALY:  FARINDOLA   \n",
       "\n",
       "     EQ_magnitude              Nb_deaths Tsunami Country     Region  Year  \\\n",
       "5883          5.7  Few (~1 to 50 people)      No   ITALY  FARINDOLA  2017   \n",
       "\n",
       "     Month  \n",
       "5883    01  "
      ]
     },
     "execution_count": 106,
     "metadata": {},
     "output_type": "execute_result"
    }
   ],
   "source": [
    "gdf.tail(1)"
   ]
  },
  {
   "cell_type": "code",
   "execution_count": 80,
   "metadata": {},
   "outputs": [
    {
     "name": "stdout",
     "output_type": "stream",
     "text": [
      "GeoDataFrame has been exported to CSV: C:/Users/HP/OneDrive/Documents/PROJECTS/Earthquake/DATA/Earthquakes1.csv\n"
     ]
    }
   ],
   "source": [
    "#export to csv\n",
    "\n",
    "csv_file_path = \"C:/Users/HP/OneDrive/Documents/PROJECTS/Earthquake/DATA/Earthquakes1.csv\"  \n",
    "gdf.to_csv(csv_file_path, index=False)  \n",
    "\n",
    "print(\"GeoDataFrame has been exported to CSV:\", csv_file_path)"
   ]
  }
 ],
 "metadata": {
  "kernelspec": {
   "display_name": "Python 3 (ipykernel)",
   "language": "python",
   "name": "python3"
  },
  "language_info": {
   "codemirror_mode": {
    "name": "ipython",
    "version": 3
   },
   "file_extension": ".py",
   "mimetype": "text/x-python",
   "name": "python",
   "nbconvert_exporter": "python",
   "pygments_lexer": "ipython3",
   "version": "3.9.13"
  }
 },
 "nbformat": 4,
 "nbformat_minor": 2
}
